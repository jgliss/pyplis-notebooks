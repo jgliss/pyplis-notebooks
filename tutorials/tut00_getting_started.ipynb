{
 "cells": [
  {
   "cell_type": "markdown",
   "metadata": {},
   "source": [
    "# Getting started with pyplis\n",
    "\n",
    "This notebook provides a step-by-step guide through a whole evaluation of pyplis and uses the [official pyplis test dataset](https://github.com/jgliss/pyplis#example-and-test-data) which is also used and documented in the [pyplis paper](https://www.mdpi.com/2076-3263/7/4/134/htm).\n",
    "\n",
    "Essentially, what this notebook does is taking you on a tour through the [12 example scripts](https://github.com/jgliss/pyplis/tree/master/scripts) (i.e. scripts ex01_analysis_setup.py - ex12_emission_rate.py) that are discussed in the paper as well. The main steps that will be illustrated include (in chronological order):\n",
    "\n",
    "- Define analysis setup and load dataset (classes `AnalysisSetup, Dataset`)\n",
    "- Measurement geometry and plume distance retrieval (class `MeasGeometry`)"
   ]
  },
  {
   "cell_type": "code",
   "execution_count": 21,
   "metadata": {},
   "outputs": [],
   "source": [
    "from warnings import filterwarnings\n",
    "filterwarnings('ignore')\n",
    "from datetime import datetime\n",
    "import pyplis\n",
    "import os"
   ]
  },
  {
   "cell_type": "markdown",
   "metadata": {},
   "source": [
    "# Preface: locate example data and set basic image directory"
   ]
  },
  {
   "cell_type": "code",
   "execution_count": 22,
   "metadata": {},
   "outputs": [
    {
     "name": "stdout",
     "output_type": "stream",
     "text": [
      "Found test data at location: C:\\Users\\Jonas\\my_pyplis\n"
     ]
    },
    {
     "data": {
      "text/plain": [
       "'C:\\\\Users\\\\Jonas\\\\my_pyplis\\\\pyplis_etna_testdata'"
      ]
     },
     "execution_count": 22,
     "metadata": {},
     "output_type": "execute_result"
    }
   ],
   "source": [
    "DATA_DIR = pyplis.inout.find_test_data()\n",
    "DATA_DIR"
   ]
  },
  {
   "cell_type": "markdown",
   "metadata": {},
   "source": [
    "The camera images can be found in sub-directory `images`:"
   ]
  },
  {
   "cell_type": "code",
   "execution_count": 23,
   "metadata": {},
   "outputs": [
    {
     "data": {
      "text/plain": [
       "'C:\\\\Users\\\\Jonas\\\\my_pyplis\\\\pyplis_etna_testdata\\\\images'"
      ]
     },
     "execution_count": 23,
     "metadata": {},
     "output_type": "execute_result"
    }
   ],
   "source": [
    "IMG_DIR = os.path.join(DATA_DIR, 'images')\n",
    "IMG_DIR"
   ]
  },
  {
   "cell_type": "markdown",
   "metadata": {},
   "source": [
    "Let's have a quick-look at what this directory contains:"
   ]
  },
  {
   "cell_type": "code",
   "execution_count": 24,
   "metadata": {},
   "outputs": [
    {
     "data": {
      "text/plain": [
       "['EC2_1106307_1R02_2015091606454457_F01_Etna.fts',\n",
       " 'EC2_1106307_1R02_2015091606454717_F02_Etna.fts',\n",
       " 'EC2_1106307_1R02_2015091606592799_F01_Etna.fts',\n",
       " 'EC2_1106307_1R02_2015091606592966_F02_Etna.fts',\n",
       " 'EC2_1106307_1R02_2015091606593268_D0L_Etna.fts',\n",
       " 'EC2_1106307_1R02_2015091606593410_D1L_Etna.fts',\n",
       " 'EC2_1106307_1R02_2015091606593561_D0H_Etna.fts',\n",
       " 'EC2_1106307_1R02_2015091606593704_D1H_Etna.fts',\n",
       " 'EC2_1106307_1R02_2015091606594030_F01_Etna.fts',\n",
       " 'EC2_1106307_1R02_2015091606594215_F02_Etna.fts']"
      ]
     },
     "execution_count": 24,
     "metadata": {},
     "output_type": "execute_result"
    }
   ],
   "source": [
    "all_files = os.listdir(IMG_DIR)\n",
    "# display the first 10 files\n",
    "all_files[:10]"
   ]
  },
  {
   "cell_type": "markdown",
   "metadata": {},
   "source": [
    "As you can see, the image files are stored using the FITS standard (.fts). The camera that was used to make these measurements is the ECII camera (NILU, Norway), which uses a file naming convention that allows to extract acquisition time from the file name (e.g. 2015091606454457 => 16.09.2015 06:45:44.457 UTC), as well as information about which filter was used for a given picture (e.g. F01, F02, D0L ...). The latter is encoded and translates to:\n",
    "\n",
    "- F01: SO2 onband filter (~310 nm)\n",
    "- F02: SO2 offband filter (~330 nm)\n",
    "- D0L: Dark image, shortest exposure, low gain\n",
    "- D1L: Dark image, longest exposure, low gain\n",
    "- D0H: Dark image, shortest exposure, high gain\n",
    "- D1H: Dark image, longest exposure, high gain\n",
    "\n",
    "These information is actually stored in the [cam_info.txt](https://github.com/jgliss/pyplis/blob/master/pyplis/data/cam_info.txt) file that contains default information about cameras that are registered in pyplis. More information about how to setup your custom camera type can be found [here](https://pyplis.readthedocs.io/en/latest/tutorials.html#primer-on-data-import)."
   ]
  },
  {
   "cell_type": "markdown",
   "metadata": {},
   "source": [
    "### Quicklook at some example images\n",
    "\n",
    "Before diving into the analysis, let's have a quick look at one onband, offband and dark image. Images in pyplis are represented by the `Img` class and can be loaded simply by passing the file path:"
   ]
  },
  {
   "cell_type": "code",
   "execution_count": 32,
   "metadata": {},
   "outputs": [],
   "source": [
    "onband_file = os.path.join(IMG_DIR, all_files[0])\n",
    "offband_file = os.path.join(IMG_DIR, all_files[1])\n",
    "dark_file = os.path.join(IMG_DIR, all_files[5])"
   ]
  },
  {
   "cell_type": "code",
   "execution_count": 33,
   "metadata": {},
   "outputs": [
    {
     "name": "stdout",
     "output_type": "stream",
     "text": [
      "C:\\Users\\Jonas\\my_pyplis\\pyplis_etna_testdata\\images\\EC2_1106307_1R02_2015091606454457_F01_Etna.fts\n",
      "\n",
      "-----------\n",
      "pyplis Img\n",
      "-----------\n",
      "\n",
      "Min / Max intensity: 477.0 - 4095.0\n",
      "Mean intensity: 2597.7518681117467\n",
      "Shape: (1024, 1344)\n",
      "ROI (abs. coords): [0, 0, 1344, 1024]\n",
      "\n",
      "Meta information\n",
      "-------------------\n",
      "start_acq: 1900-01-01 00:00:00\n",
      "stop_acq: 1900-01-01 00:00:00\n",
      "texp: 0.0\n",
      "focal_length: nan\n",
      "pix_width: nan\n",
      "pix_height: nan\n",
      "bit_depth: nan\n",
      "f_num: nan\n",
      "read_gain: 0\n",
      "lon: nan\n",
      "lat: nan\n",
      "altitude: nan\n",
      "altitude_offs: nan\n",
      "elev: nan\n",
      "elev_err: nan\n",
      "azim: nan\n",
      "azim_err: nan\n",
      "filter_id: \n",
      "path: C:\\Users\\Jonas\\my_pyplis\\pyplis_etna_testdata\\images\\EC2_1106307_1R02_2015091606454457_F01_Etna.fts\n",
      "file_name: EC2_1106307_1R02_2015091606454457_F01_Etna.fts\n",
      "file_type: .fts\n",
      "device_id: \n",
      "ser_no: \n",
      "wvlngth: nan\n",
      "fits_idx: 0\n",
      "temperature: nan\n",
      "user_param1: nan\n",
      "user_param2: nan\n",
      "user_param3: nan\n",
      "\n",
      "Edit log\n",
      "-----------\n",
      "darkcorr: False\n",
      "blurring: 0\n",
      "median: 0\n",
      "crop: False\n",
      "8bit: False\n",
      "pyrlevel: 0\n",
      "is_tau: False\n",
      "is_aa: False\n",
      "vigncorr: False\n",
      "senscorr: False\n",
      "dilcorr: False\n",
      "gascalib: False\n",
      "is_bin: False\n",
      "is_inv: False\n",
      "shifted: False\n",
      "others: False\n",
      "\n"
     ]
    }
   ],
   "source": [
    "onband = pyplis.Img(onband_file)\n",
    "print(onband)"
   ]
  },
  {
   "cell_type": "markdown",
   "metadata": {},
   "source": [
    "The print command of the image class yields useful output. As you can see, most meta information is unspecified. If your camera is registered in pyplis and specs are available in file *cam_info.txt* (which is the case here ofc), you may use your camera ID to register further camera specific information when loading an image: "
   ]
  },
  {
   "cell_type": "code",
   "execution_count": 35,
   "metadata": {},
   "outputs": [
    {
     "name": "stdout",
     "output_type": "stream",
     "text": [
      "C:\\Users\\Jonas\\my_pyplis\\pyplis_etna_testdata\\images\\EC2_1106307_1R02_2015091606454717_F02_Etna.fts\n",
      "\n",
      "-----------\n",
      "pyplis Img\n",
      "-----------\n",
      "\n",
      "Min / Max intensity: 530.0 - 3444.0\n",
      "Mean intensity: 2495.688948858352\n",
      "Shape: (1024, 1344)\n",
      "ROI (abs. coords): [0, 0, 1344, 1024]\n",
      "\n",
      "Meta information\n",
      "-------------------\n",
      "start_acq: 1900-01-01 00:00:00\n",
      "stop_acq: 1900-01-01 00:00:00\n",
      "texp: 0.0\n",
      "focal_length: nan\n",
      "pix_width: nan\n",
      "pix_height: nan\n",
      "bit_depth: nan\n",
      "f_num: nan\n",
      "read_gain: 0\n",
      "lon: nan\n",
      "lat: nan\n",
      "altitude: nan\n",
      "altitude_offs: nan\n",
      "elev: nan\n",
      "elev_err: nan\n",
      "azim: nan\n",
      "azim_err: nan\n",
      "filter_id: \n",
      "path: C:\\Users\\Jonas\\my_pyplis\\pyplis_etna_testdata\\images\\EC2_1106307_1R02_2015091606454717_F02_Etna.fts\n",
      "file_name: EC2_1106307_1R02_2015091606454717_F02_Etna.fts\n",
      "file_type: .fts\n",
      "device_id: \n",
      "ser_no: \n",
      "wvlngth: nan\n",
      "fits_idx: 0\n",
      "temperature: nan\n",
      "user_param1: nan\n",
      "user_param2: nan\n",
      "user_param3: nan\n",
      "\n",
      "Edit log\n",
      "-----------\n",
      "darkcorr: False\n",
      "blurring: 0\n",
      "median: 0\n",
      "crop: False\n",
      "8bit: False\n",
      "pyrlevel: 0\n",
      "is_tau: False\n",
      "is_aa: False\n",
      "vigncorr: False\n",
      "senscorr: False\n",
      "dilcorr: False\n",
      "gascalib: False\n",
      "is_bin: False\n",
      "is_inv: False\n",
      "shifted: False\n",
      "others: False\n",
      "\n"
     ]
    }
   ],
   "source": [
    "offband = pyplis.Img(offband_file, cam_id='ecII')\n",
    "print(offband)"
   ]
  },
  {
   "cell_type": "code",
   "execution_count": null,
   "metadata": {},
   "outputs": [],
   "source": [
    "onband.show(vmin=0, vmax=2**12); #use ; in last cell entry to surpress output"
   ]
  },
  {
   "cell_type": "markdown",
   "metadata": {},
   "source": [
    "## Define analysis setup and load dataset"
   ]
  },
  {
   "cell_type": "markdown",
   "metadata": {},
   "source": [
    "In the following, relevant parameter for the analysis are defined. From these, an instance of the class `AnalysisSetup` is created, which is used to create an instance of the `Dataset` class."
   ]
  },
  {
   "cell_type": "markdown",
   "metadata": {},
   "source": [
    "Define start and stop time of the measurement"
   ]
  },
  {
   "cell_type": "code",
   "execution_count": 15,
   "metadata": {},
   "outputs": [
    {
     "name": "stdout",
     "output_type": "stream",
     "text": [
      "True\n",
      "Retrieving SRTM data (this might take a while) ... \n",
      "Updated camera in GeoSetup of MeasGeometry\n",
      "Updated source in GeoSetup of MeasGeometry\n",
      "Updated source2cam GeoVector in GeoSetup of MeasGeometry\n",
      "Updated camera CFOV vector in GeoSetup of MeasGeometry\n",
      "Updated plume vector in GeoSetup of MeasGeometry\n",
      "Updated GeoPoint of intersection between camera CFOV and plume vector in GeoSetup of MeasGeometry\n",
      "MeasGeometry was updated and fulfills all requirements\n",
      "True\n",
      "Updating measurement setup in Dataset\n",
      "\n",
      "SEARCHING VALID FILE PATHS IN\n",
      "C:\\Users\\Jonas\\my_pyplis\\pyplis_etna_testdata\\images\n",
      "\n",
      "Image search is only performed in specified directory and does not include subdirectories\n",
      "Using only fts files\n",
      "Total number of files found 509\n",
      "INFO: texp cannot be accessed from filename\n",
      "422 files of type were found in specified time interval 2015-09-16 07:06:00 - 2015-09-16 07:22:00\n",
      "422 files of type were found in specified time interval 2015-09-16 07:06:00 - 2015-09-16 07:22:00\n",
      "\n",
      "Init ImgList on\n",
      "-------------------------\n",
      "Number of files: 209\n",
      "-----------------------------------------\n",
      "\n",
      "Init ImgList off\n",
      "-------------------------\n",
      "Number of files: 209\n",
      "-----------------------------------------\n",
      "\n",
      "Init ImgList offset0\n",
      "-------------------------\n",
      "Number of files: 1\n",
      "-----------------------------------------\n",
      "\n",
      "Init ImgList dark0\n",
      "-------------------------\n",
      "Number of files: 1\n",
      "-----------------------------------------\n",
      "\n",
      "Init ImgList offset1\n",
      "-------------------------\n",
      "Number of files: 1\n",
      "-----------------------------------------\n",
      "\n",
      "Init ImgList dark1\n",
      "-------------------------\n",
      "Number of files: 1\n",
      "-----------------------------------------\n",
      "Edit not active in img_list offset0: no image preparation will be performed\n",
      "Edit not active in img_list dark0: no image preparation will be performed\n",
      "Edit not active in img_list offset1: no image preparation will be performed\n",
      "Edit not active in img_list dark1: no image preparation will be performed\n",
      "Assigning dark/offset lists ['offset0', 'dark0', 'offset1', 'dark1'] to image list on\n",
      "\n",
      "Assigning dark/offset lists ['offset0', 'dark0', 'offset1', 'dark1'] to image list off\n",
      "\n",
      "Linking list off to list on\n",
      "Updating surface_fit_pyrlevel in background model\n",
      "Updating surface_fit_polyorder in background model\n",
      "Updating scale_rect in background model\n",
      "Updating ygrad_rect in background model\n",
      "Updating ygrad_line_colnum in background model\n",
      "Updating ygrad_line_polyorder in background model\n",
      "Updating ygrad_line_startrow in background model\n",
      "Updating ygrad_line_stoprow in background model\n",
      "Updating ygrad_line_mask in background model\n",
      "Updating xgrad_rect in background model\n",
      "Updating xgrad_line_rownum in background model\n",
      "Updating xgrad_line_polyorder in background model\n",
      "Updating xgrad_line_stopcol in background model\n",
      "Updating xgrad_line_startcol in background model\n",
      "Updating xgrad_line_mask in background model\n",
      "DATASET INITIATED\n"
     ]
    }
   ],
   "source": [
    "start_plume = datetime(2015, 9, 16, 7, 6, 00)\n",
    "stop_plume = datetime(2015, 9, 16, 7, 22, 00)\n",
    "\n",
    "# Define camera (here the default ecII type is used)\n",
    "cam_id = \"ecII\"\n",
    "\n",
    "# the camera filter setup\n",
    "filters = [pyplis.utils.Filter(type=\"on\", acronym=\"F01\"),\n",
    "           pyplis.utils.Filter(type=\"off\", acronym=\"F02\")]\n",
    "\n",
    "# camera location and viewing direction (altitude will be retrieved\n",
    "# automatically)\n",
    "geom_cam = {\"lon\": 15.1129,\n",
    "            \"lat\": 37.73122,\n",
    "            \"elev\": 20.0,\n",
    "            \"elev_err\": 5.0,\n",
    "            \"azim\": 270.0,\n",
    "            \"azim_err\": 10.0,\n",
    "            \"alt_offset\": 15.0,\n",
    "            \"focal_length\": 25e-3}  # altitude offset (above topography)\n",
    "\n",
    "# Create camera setup\n",
    "# the camera setup includes information about the filename convention in\n",
    "# order to identify different image types (e.g. on band, off band, dark..)\n",
    "# it furthermore includes information about the detector specifics (e.g.\n",
    "# dimension, pixel size, focal length). Measurement specific parameters\n",
    "# (e.g. lon, lat, elev, azim) where defined in the dictinary above and\n",
    "# can be passed as additional keyword dictionary using **geom_cam\n",
    "# Alternatively, they could also be passed directly, e.g.:\n",
    "\n",
    "# cam = pyplis.setup.Camera(cam_id, filter_list=filters, lon=15.1129,\n",
    "#                           lat=37.73122)\n",
    "\n",
    "cam = pyplis.setupclasses.Camera(cam_id, filter_list=filters,\n",
    "                                 **geom_cam)\n",
    "\n",
    "# Load default information for Etna. This information is stored in\n",
    "# the source_info.txt file of the Pyplis information. You may also access\n",
    "# information about any volcano via the available online access to the NOAA\n",
    "# database using the method pyplis.inout.get_source_info_online(source_id).\n",
    "\n",
    "source = pyplis.setupclasses.Source(\"etna\")\n",
    "\n",
    "# Provide wind direction\n",
    "wind_info = {\"dir\": 0.0,\n",
    "             \"dir_err\": 1.0}\n",
    "\n",
    "#                \"dir_err\"  : 15.0}\n",
    "\n",
    "# Create BaseSetup object (which creates the MeasGeometry object)\n",
    "stp = pyplis.setupclasses.MeasSetup(IMG_DIR, start, stop, camera=cam,\n",
    "                                    source=source,\n",
    "                                    wind_info=wind_info)\n",
    "print(stp.LINK_OFF_TO_ON)\n",
    "# Create analysis object (from BaseSetup)\n",
    "# The dataset takes care of finding all vali\n",
    "ds = pyplis.Dataset(stp)"
   ]
  }
 ],
 "metadata": {
  "kernelspec": {
   "display_name": "Python 3",
   "language": "python",
   "name": "python3"
  },
  "language_info": {
   "codemirror_mode": {
    "name": "ipython",
    "version": 3
   },
   "file_extension": ".py",
   "mimetype": "text/x-python",
   "name": "python",
   "nbconvert_exporter": "python",
   "pygments_lexer": "ipython3",
   "version": "3.7.1"
  }
 },
 "nbformat": 4,
 "nbformat_minor": 2
}
