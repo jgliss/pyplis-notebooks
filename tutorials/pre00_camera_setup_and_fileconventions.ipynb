{
 "cells": [
  {
   "cell_type": "markdown",
   "metadata": {},
   "source": [
    "## Data import - Specifying custom camera information\n",
    "\n",
    "In order to use all features of pyplis, certain specifications related to camera\n",
    "and image acquisition need to be defined. Basic information about the camera\n",
    "(e.g. detector specifications, filter setup, file type). If applicatble, the `Camera` class also includes information about the file naming convention used, which will enable metadata access (such as acquisition time, or which filter is used) directly from the image file names. This tutorial introduces the `Camera` class and\n",
    "how to set up your custom camera type based on your data format, including definitions of your file naming convention."
   ]
  },
  {
   "cell_type": "code",
   "execution_count": 1,
   "metadata": {},
   "outputs": [],
   "source": [
    "import pyplis\n",
    "pyplis.change_loglevel(pyplis.logger, 'exception', update_fmt=True, fmt_debug=True)\n",
    "pyplis.change_loglevel(pyplis.print_log, 'warning', update_fmt=True, fmt_debug=False)"
   ]
  },
  {
   "cell_type": "markdown",
   "metadata": {},
   "source": [
    "### Specifying your file naming convention\n",
    "\n",
    "At the very beginning of the analysis, the images need to be imported and\n",
    "separated by image type (e.g. on-band plume, off-band plume, dark, offset, on /\n",
    "off-band cell calibration). *pyplis* can perform an automatic separation of the different image types (e.g. if all image types are stored in the same directory), given that information about the image type is encoded in the image file names and that the relevant decoding information is specified in the corresponding `Camera` class. \n",
    "\n",
    "In order to use this automated separation for a given dataset (e.g. a single folder `IMG_DIR` containing images of all types) it is required that the image type can be identified from the file names.\n",
    "\n",
    "The relevant information for identifying different image types (e.g. plume\n",
    "on-band, dark, offset) can be specified using either of the following two\n",
    "classes:\n",
    "\n",
    "1. `Filter`: specifies file access information for all image types that are **NOT** dark or offset images (e.g. on / off images plume / background)\n",
    "2. `DarkOffsetInfo`: specifies different types of dark images and offset images."
   ]
  },
  {
   "cell_type": "code",
   "execution_count": 2,
   "metadata": {},
   "outputs": [
    {
     "name": "stdout",
     "output_type": "stream",
     "text": [
      "\n",
      "Filter\n",
      "-----------\n",
      "id: on\n",
      "type: on\n",
      "acronym: default\n",
      "meas_type_acro: default\n",
      "center_wavelength: nan\n",
      "\n"
     ]
    }
   ],
   "source": [
    "f = pyplis.Filter()\n",
    "print(f)"
   ]
  },
  {
   "cell_type": "code",
   "execution_count": 3,
   "metadata": {},
   "outputs": [
    {
     "name": "stdout",
     "output_type": "stream",
     "text": [
      "\n",
      "DarkOffsetInfo\n",
      "---------------------------------\n",
      "ID: dark\n",
      "Type: dark\n",
      "Acronym: \n",
      "Meas type acronym: \n",
      "Read gain: 0\n",
      "\n"
     ]
    }
   ],
   "source": [
    "d = pyplis.utils.DarkOffsetInfo()\n",
    "print(d)"
   ]
  },
  {
   "cell_type": "markdown",
   "metadata": {},
   "source": [
    "Such a collection of `Filter` and `DarkOffsetInfo` objects is then\n",
    "stored within a `Camera` object.\n",
    "\n",
    "These information is used to separate the individual image types when creating a\n",
    "`Dataset` object. The latter searches all valid image files in a given\n",
    "folder `IMG_DIR` and creates `ImgList` objects for each `Filter`\n",
    "and `DarkImgList` objects for each `DarkOffsetInfo` object defined\n",
    "in the `Camera`. Each of these lists is then filled with the file paths\n",
    "of the corresponding image type located in ``IMG_DIR``. The `Camera`\n",
    "object furthermore includes relevant specs of the camera (e.g. pixel geometry,\n",
    "lens).\n",
    "\n",
    "The following list provides an overview of relevant parameters for filename\n",
    "access information using exemplary filenames of the ECII camera type.\n",
    "\n",
    "\n",
    "### The ECII camera standard\n",
    "\n",
    "In the following, an exemplary `Camera` class is specified based on the\n",
    "ECII-camera standard and file naming convention.\n",
    "\n",
    "To start with, an empty `Camera` instance is created:"
   ]
  },
  {
   "cell_type": "code",
   "execution_count": 4,
   "metadata": {},
   "outputs": [
    {
     "name": "stdout",
     "output_type": "stream",
     "text": [
      "None, serno. 9999\n",
      "-------------------------\n",
      "cam_id: None\n",
      "delim: .\n",
      "time_info_pos: None\n",
      "time_info_str: \n",
      "filter_id_pos: None\n",
      "texp_pos: None\n",
      "texp_unit: ms\n",
      "file_type: None\n",
      "main_filter_id: None\n",
      "meas_type_pos: None\n",
      "darkcorr_opt: 0\n",
      "focal_length: None\n",
      "pix_height: None\n",
      "pix_width: None\n",
      "pixnum_x: None\n",
      "pixnum_y: None\n",
      "reg_shift_off: [0.0, 0.0]\n",
      "io_opts: {}\n",
      "image_import_method: None\n",
      "\n",
      "Dark & offset info\n",
      "------------------------\n",
      "\n",
      "Filters\n",
      "----------------------\n",
      "on, type: on (default): nan nm\n",
      "Default Filter: on\n",
      "\n",
      "Geometry info\n",
      "----------------------\n",
      "lon: None\n",
      "lat: None\n",
      "altitude: None\n",
      "azim: None\n",
      "azim_err: None\n",
      "elev: None\n",
      "elev_err: None\n",
      "alt_offset: 0.000\n",
      "\n"
     ]
    }
   ],
   "source": [
    "cam = pyplis.Camera()\n",
    "print(cam)"
   ]
  },
  {
   "cell_type": "markdown",
   "metadata": {},
   "source": [
    "If you wish to store the camera as default you need to specify a unique camera\n",
    "ID (string) which is not yet used for any of the pyplis default cameras stored\n",
    "in the file [cam_info.txt](https://github.com/jgliss/pyplis/blob/master/pyplis/data/cam_info.txt). You can check all existing IDs using:"
   ]
  },
  {
   "cell_type": "code",
   "execution_count": 5,
   "metadata": {},
   "outputs": [
    {
     "name": "stdout",
     "output_type": "stream",
     "text": [
      "['hdcam', 'hd', 'HD', 'HDCam', 'ecII', 'ec2', 'ECII', 'EC2', 'EnvicamII', 'PCO', 'pco', 'pco.ultraviolet', 'PCO.ultraviolet', 'hd_new', 'usgs', 'usgs_12mm', 'usgs', 'usgs_9mm', 'ecII_new_test', 'comtessa', 'nilu', 'NILU', '', 'ecII_test']\n"
     ]
    }
   ],
   "source": [
    "print(pyplis.inout.get_all_valid_cam_ids())"
   ]
  },
  {
   "cell_type": "markdown",
   "metadata": {},
   "source": [
    "Let's call our new camera \"ecII_test\":"
   ]
  },
  {
   "cell_type": "code",
   "execution_count": 6,
   "metadata": {},
   "outputs": [],
   "source": [
    "cam.cam_id = \"ecII_test\""
   ]
  },
  {
   "cell_type": "markdown",
   "metadata": {},
   "source": [
    "Now specify some relevant attributes of the camera, starting with the image file\n",
    "type:"
   ]
  },
  {
   "cell_type": "code",
   "execution_count": 7,
   "metadata": {},
   "outputs": [],
   "source": [
    "cam.file_type = \"fts\""
   ]
  },
  {
   "cell_type": "markdown",
   "metadata": {},
   "source": [
    "You can also provide information about detector and camera lens:"
   ]
  },
  {
   "cell_type": "code",
   "execution_count": 8,
   "metadata": {},
   "outputs": [],
   "source": [
    "cam.focal_length = 25e-3 #m\n",
    "\n",
    "# Detector geometry\n",
    "cam.pix_height = 4.65e-6 # pixel height in m\n",
    "cam.pix_width = 4.65e-6 # pixel width in m\n",
    "cam.pixnum_x = 1344\n",
    "cam.pixnum_y = 1024"
   ]
  },
  {
   "cell_type": "markdown",
   "metadata": {},
   "source": [
    "In the following, the camera file naming convention is specified. This enables\n",
    "to extract certain information from the image file names (e.g. image acq. time,\n",
    "image type, exposure time).\n",
    "\n",
    "Start with setting the file name delimiter of your file naming convention:"
   ]
  },
  {
   "cell_type": "code",
   "execution_count": 9,
   "metadata": {},
   "outputs": [],
   "source": [
    "cam.delim = \"_\""
   ]
  },
  {
   "cell_type": "markdown",
   "metadata": {},
   "source": [
    "Based on that, specify the position of acquisition time (and date) in the image\n",
    "file names after splitting with delimiter:"
   ]
  },
  {
   "cell_type": "code",
   "execution_count": 10,
   "metadata": {},
   "outputs": [],
   "source": [
    "cam.time_info_pos = 3"
   ]
  },
  {
   "cell_type": "markdown",
   "metadata": {},
   "source": [
    "The acq. time strings in the file names need to be converted into ``datetime``\n",
    "objects thus, specify the string for internal conversion (is done using\n",
    "`datetime.strptime`):"
   ]
  },
  {
   "cell_type": "code",
   "execution_count": 11,
   "metadata": {},
   "outputs": [],
   "source": [
    "cam.time_info_str = \"%Y%m%d%H%M%S%f\""
   ]
  },
  {
   "cell_type": "markdown",
   "metadata": {},
   "source": [
    "If the file name also includes the image exposure time, this can also be\n",
    "specified:"
   ]
  },
  {
   "cell_type": "code",
   "execution_count": 12,
   "metadata": {},
   "outputs": [],
   "source": [
    "cam.texp_pos = \"\" #the ECII does not..."
   ]
  },
  {
   "cell_type": "markdown",
   "metadata": {},
   "source": [
    "as well as the unit (choose from \"s\" or \"ms\" if applicable):"
   ]
  },
  {
   "cell_type": "code",
   "execution_count": 13,
   "metadata": {},
   "outputs": [],
   "source": [
    "cam.texp_unit = \"\""
   ]
  },
  {
   "cell_type": "markdown",
   "metadata": {},
   "source": [
    "Furthermore, the image type identification can (and should) be specified in the\n",
    "camera, in order to make life easier. This ensures, that images of different\n",
    "types (e.g. on / off-band, dark, offset) can be identified and separated\n",
    "directly from the filename. The relevant information is specified in a\n",
    "collection of `Filter` and `DarkOffsetInfo` objects.\n",
    "Let's start off with defining the different image access types for on and\n",
    "off-band images (these are stored in `Filter` objects, while dark /\n",
    "offset image access information is stored in `DarkOffsetInfo` objects,\n",
    "follows below):"
   ]
  },
  {
   "cell_type": "code",
   "execution_count": 14,
   "metadata": {},
   "outputs": [],
   "source": [
    "# On-band images\n",
    "on = pyplis.Filter(id=\"on\", type=\"on\", acronym=\"F01\",\n",
    "                   meas_type_acro=\"F01\", center_wavelength=310)\n",
    "# Off-band images\n",
    "off = pyplis.Filter(type=\"off\", acronym=\"F02\",\n",
    "                    meas_type_acro=\"F02\", center_wavelength=330)"
   ]
  },
  {
   "cell_type": "markdown",
   "metadata": {},
   "source": [
    "Now add the two filters to the camera (i.e. put them into a list and assign  it\n",
    "to the camera):"
   ]
  },
  {
   "cell_type": "code",
   "execution_count": 15,
   "metadata": {},
   "outputs": [],
   "source": [
    "cam.filter_setup['on'] = on\n",
    "cam.filter_setup['off'] = off"
   ]
  },
  {
   "cell_type": "markdown",
   "metadata": {},
   "source": [
    "Tell the camera, which of the filters is the \"central\" filter for the emission\n",
    "rate analysis (usually \"on\"):"
   ]
  },
  {
   "cell_type": "code",
   "execution_count": 16,
   "metadata": {},
   "outputs": [],
   "source": [
    "cam.main_filter_id = \"on\""
   ]
  },
  {
   "cell_type": "markdown",
   "metadata": {},
   "source": [
    "The latter information is used for internal linking of image lists within a\n",
    "`Dataset` object, for instance, if the camera contains multiple\n",
    "``type=\"on\"`` filters (i.e. on-band SO2).\n",
    "\n",
    "Note: The parameter ``main_filter_id`` is irrelevant for standard setups like here\n",
    "(i.e. one on and one off-band filter).\n",
    "\n",
    "The filter setup specifies how actual plume (or background) images can be accessed from the filenames. If you have recorded dark images and if these dark images are identifiable via the filename in a similar manner than the on / off images, you can add these information to the `Camera` as well. The interface to be used here is the class `DarkOffsetInfo`, which is similar to the `Filter`class. The ECII camera used in this example has the possibility to enhance the sensitivity by activating mode *gain=high* (similar to ISO in normal cameras). These high-gain images are more noisy but have shorter aqcuisition times at low light conditions. \n",
    "\n",
    "The automatic dark / offset image acquisition routine of the camera takes 2 dark images, one at the shortest and one at the longest possible exposure, both for low and high gain (so 4 images in total). The information about which one of the four images is used, is encoded in the filename as well via 4 identifiers:\n",
    "\n",
    "- D0L: Dark image, shortest exposure, low gain\n",
    "- D1L: Dark image, longest exposure, low gain\n",
    "- D0H: Dark image, shortest exposure, high gain\n",
    "- D1H: Dark image, longest exposure, high gain\n",
    "\n",
    "This can be setup as follows:"
   ]
  },
  {
   "cell_type": "code",
   "execution_count": 17,
   "metadata": {},
   "outputs": [],
   "source": [
    "offset_low_gain  = pyplis.DarkOffsetInfo(id=\"offset0\",type=\"offset\",\n",
    "                                        acronym=\"D0L\",\n",
    "                                        meas_type_acro=\"D0L\",\n",
    "                                        read_gain=0)\n",
    "\n",
    "offset_high_gain = pyplis.DarkOffsetInfo(id=\"offset1\",type=\"offset\",\n",
    "                                         acronym=\"D0H\", read_gain=1)\n",
    "dark_low_gain    = pyplis.DarkOffsetInfo(id=\"dark0\",type=\"dark\",\n",
    "                                         acronym=\"D1L\", read_gain=0)\n",
    "dark_high_gain   = pyplis.DarkOffsetInfo(id=\"dark1\",type=\"dark\",\n",
    "                                         acronym=\"D1H\", read_gain=1)\n",
    "\n",
    "cam.dark_info = [offset_low_gain, offset_high_gain,\n",
    "                 dark_low_gain, dark_high_gain]"
   ]
  },
  {
   "cell_type": "markdown",
   "metadata": {},
   "source": [
    "You might have recognised, that in the last 3 `DarkOffsetInfo`\n",
    "objects, the meas_type_acro was not specified. This is because it is actually\n",
    "irrelevant for the ECII camera which does not include a sub string specifying\n",
    "different measurement modi like, for instance, the HD-Custom camera (i.e. K, M,\n",
    "D). In fact, specifying `meas_type_acro` is not mandatory.\n",
    "\n",
    "Now that all different image types are specified, the camera needs to know where\n",
    "to find the actual information in the file names (after splitting using ``delim``).\n",
    "The position of the strings specified in the attribute ``acronym`` (see\n",
    "definitions of the ``Filter`` and ``DarkOffsetInfo`` objects above) can be set\n",
    "using:"
   ]
  },
  {
   "cell_type": "code",
   "execution_count": 18,
   "metadata": {},
   "outputs": [],
   "source": [
    "cam.acronym_pos = 4"
   ]
  },
  {
   "cell_type": "markdown",
   "metadata": {},
   "source": [
    "The position of the strings specified in attribute ``meas_type_acro``:"
   ]
  },
  {
   "cell_type": "code",
   "execution_count": 19,
   "metadata": {},
   "outputs": [],
   "source": [
    "cam.meas_type_acro_pos = 4"
   ]
  },
  {
   "cell_type": "markdown",
   "metadata": {},
   "source": [
    "**Note**: If ``meas_type_acro`` is irrelevant (like for this camera) it is required to\n",
    "be set equal to ``acronym_pos``.\n",
    "\n",
    "Furthermore, if automatic dark (and offset) correction is supposed to be performed during the analysis, it can be specified in the camera, how this is supposed to be done: *pyplis* includes two options for that, details about these can be found in [Appendix C in Gliss et al., 2017](https://www.mdpi.com/2076-3263/7/4/134/htm#app3-geosciences-07-00134).\n",
    "The ECII uses option 1:"
   ]
  },
  {
   "cell_type": "code",
   "execution_count": 20,
   "metadata": {},
   "outputs": [],
   "source": [
    "cam.DARK_CORR_OPT = 1"
   ]
  },
  {
   "cell_type": "markdown",
   "metadata": {},
   "source": [
    "That's it! You might want to check if everything is in place::"
   ]
  },
  {
   "cell_type": "code",
   "execution_count": 21,
   "metadata": {},
   "outputs": [
    {
     "name": "stdout",
     "output_type": "stream",
     "text": [
      "ecII_test, serno. 9999\n",
      "-------------------------\n",
      "cam_id: ecII_test\n",
      "delim: _\n",
      "time_info_pos: 3\n",
      "time_info_str: %Y%m%d%H%M%S%f\n",
      "filter_id_pos: 4\n",
      "texp_pos: \n",
      "texp_unit: \n",
      "file_type: fts\n",
      "main_filter_id: on\n",
      "meas_type_pos: 4\n",
      "darkcorr_opt: 0\n",
      "focal_length: 0.025\n",
      "pix_height: 4.65e-06\n",
      "pix_width: 4.65e-06\n",
      "pixnum_x: 1344\n",
      "pixnum_y: 1024\n",
      "reg_shift_off: [0.0, 0.0]\n",
      "io_opts: {}\n",
      "image_import_method: None\n",
      "\n",
      "Dark & offset info\n",
      "------------------------\n",
      "ID: offset0, type: offset, acronym: D0L, meas_type_acro: D0L,read_gain: 0\n",
      "ID: offset1, type: offset, acronym: D0H, meas_type_acro: D0H,read_gain: 1\n",
      "ID: dark0, type: dark, acronym: D1L, meas_type_acro: D1L,read_gain: 0\n",
      "ID: dark1, type: dark, acronym: D1H, meas_type_acro: D1H,read_gain: 1\n",
      "\n",
      "Filters\n",
      "----------------------\n",
      "on, type: on (F01): 310 nm\n",
      "off, type: off (F02): 330 nm\n",
      "Default Filter: on\n",
      "\n",
      "Geometry info\n",
      "----------------------\n",
      "lon: None\n",
      "lat: None\n",
      "altitude: None\n",
      "azim: None\n",
      "azim_err: None\n",
      "elev: None\n",
      "elev_err: None\n",
      "alt_offset: 0.000\n",
      "\n"
     ]
    }
   ],
   "source": [
    "print(cam)"
   ]
  },
  {
   "cell_type": "markdown",
   "metadata": {},
   "source": [
    "If you are happy, you might want to check if the data access from the file names\n",
    "works. Let's find some images (take the first 4):"
   ]
  },
  {
   "cell_type": "code",
   "execution_count": 22,
   "metadata": {},
   "outputs": [
    {
     "data": {
      "text/plain": [
       "['c:\\\\users\\\\jonas\\\\jonas\\\\repos\\\\pyplis\\\\pyplis/data/testdata_minimal/images\\\\EC2_1106307_1R02_2015091606454457_F01_Etna.fts',\n",
       " 'c:\\\\users\\\\jonas\\\\jonas\\\\repos\\\\pyplis\\\\pyplis/data/testdata_minimal/images\\\\EC2_1106307_1R02_2015091606454717_F02_Etna.fts',\n",
       " 'c:\\\\users\\\\jonas\\\\jonas\\\\repos\\\\pyplis\\\\pyplis/data/testdata_minimal/images\\\\EC2_1106307_1R02_2015091606593268_D0L_Etna.fts',\n",
       " 'c:\\\\users\\\\jonas\\\\jonas\\\\repos\\\\pyplis\\\\pyplis/data/testdata_minimal/images\\\\EC2_1106307_1R02_2015091606593410_D1L_Etna.fts']"
      ]
     },
     "execution_count": 22,
     "metadata": {},
     "output_type": "execute_result"
    }
   ],
   "source": [
    "import glob, os\n",
    "files = glob.glob('{}/data/testdata_minimal/images/*.fts'.format(pyplis.__dir__))[:4]\n",
    "files"
   ]
  },
  {
   "cell_type": "markdown",
   "metadata": {},
   "source": [
    "Now loop over these images and print the metainfo retrieved from the filenames:"
   ]
  },
  {
   "cell_type": "code",
   "execution_count": 23,
   "metadata": {},
   "outputs": [
    {
     "name": "stdout",
     "output_type": "stream",
     "text": [
      "File: EC2_1106307_1R02_2015091606454457_F01_Etna.fts\n",
      "Acq. time: 2015-09-16 06:45:44.570000\n",
      "filter ID: F01\n",
      "meas type: F01\n",
      "Exp. time: None\n",
      "\n",
      "File: EC2_1106307_1R02_2015091606454717_F02_Etna.fts\n",
      "Acq. time: 2015-09-16 06:45:47.170000\n",
      "filter ID: F02\n",
      "meas type: F02\n",
      "Exp. time: None\n",
      "\n",
      "File: EC2_1106307_1R02_2015091606593268_D0L_Etna.fts\n",
      "Acq. time: 2015-09-16 06:59:32.680000\n",
      "filter ID: D0L\n",
      "meas type: D0L\n",
      "Exp. time: None\n",
      "\n",
      "File: EC2_1106307_1R02_2015091606593410_D1L_Etna.fts\n",
      "Acq. time: 2015-09-16 06:59:34.100000\n",
      "filter ID: D1L\n",
      "meas type: D1L\n",
      "Exp. time: None\n",
      "\n"
     ]
    }
   ],
   "source": [
    "for file in files:\n",
    "    fname = os.path.basename(file)\n",
    "    acq_time, filter_id, meas_type, texp, warnings = cam.get_img_meta_from_filename(file)\n",
    "    print('File: {}\\n'\n",
    "          'Acq. time: {}\\n'\n",
    "          'filter ID: {}\\n'\n",
    "          'meas type: {}\\n'\n",
    "          'Exp. time: {}\\n'.format(fname, acq_time, filter_id, meas_type, texp))"
   ]
  },
  {
   "cell_type": "markdown",
   "metadata": {},
   "source": [
    "You might also test it for a whole dataset of images located in the image directorz and check if pyplis can identify the different image types. You can do this, for instance, by creating a `Dataset` object. First, create a\n",
    "measurement setup with minimum information:"
   ]
  },
  {
   "cell_type": "code",
   "execution_count": 24,
   "metadata": {},
   "outputs": [
    {
     "name": "stdout",
     "output_type": "stream",
     "text": [
      "<pyplis.setupclasses.MeasSetup object at 0x000001F0AFCB12E8>\n",
      "\n",
      "Meteorology info\n",
      "-----------------------\n",
      "dir: None\n",
      "dir_err: None\n",
      "vel: None\n",
      "vel_err: None\n",
      "\n",
      "ecII_test, serno. 9999\n",
      "-------------------------\n",
      "cam_id: ecII_test\n",
      "delim: _\n",
      "time_info_pos: 3\n",
      "time_info_str: %Y%m%d%H%M%S%f\n",
      "filter_id_pos: 4\n",
      "texp_pos: \n",
      "texp_unit: \n",
      "file_type: fts\n",
      "main_filter_id: on\n",
      "meas_type_pos: 4\n",
      "darkcorr_opt: 0\n",
      "focal_length: 0.025\n",
      "pix_height: 4.65e-06\n",
      "pix_width: 4.65e-06\n",
      "pixnum_x: 1344\n",
      "pixnum_y: 1024\n",
      "reg_shift_off: [0.0, 0.0]\n",
      "io_opts: {}\n",
      "image_import_method: None\n",
      "\n",
      "Dark & offset info\n",
      "------------------------\n",
      "ID: offset0, type: offset, acronym: D0L, meas_type_acro: D0L,read_gain: 0\n",
      "ID: offset1, type: offset, acronym: D0H, meas_type_acro: D0H,read_gain: 1\n",
      "ID: dark0, type: dark, acronym: D1L, meas_type_acro: D1L,read_gain: 0\n",
      "ID: dark1, type: dark, acronym: D1H, meas_type_acro: D1H,read_gain: 1\n",
      "\n",
      "Filters\n",
      "----------------------\n",
      "on, type: on (F01): 310 nm\n",
      "off, type: off (F02): 330 nm\n",
      "Default Filter: on\n",
      "\n",
      "Geometry info\n",
      "----------------------\n",
      "lon: None\n",
      "lat: None\n",
      "altitude: None\n",
      "azim: None\n",
      "azim_err: None\n",
      "elev: None\n",
      "elev_err: None\n",
      "alt_offset: 0.000\n",
      "\n",
      "\n",
      "pyplis Source\n",
      "-------------------------\n",
      "name: \n",
      "lat: nan\n",
      "lon: nan\n",
      "altitude: nan\n",
      "status: \n",
      "country: \n",
      "region: \n",
      "type: \n",
      "last_eruption: \n",
      "\n"
     ]
    }
   ],
   "source": [
    "meas_setup = pyplis.MeasSetup(base_dir=os.path.dirname(files[0]), camera=cam)\n",
    "print(meas_setup)"
   ]
  },
  {
   "cell_type": "markdown",
   "metadata": {},
   "source": [
    "And create a Dataset from that:"
   ]
  },
  {
   "cell_type": "code",
   "execution_count": 25,
   "metadata": {},
   "outputs": [
    {
     "name": "stderr",
     "output_type": "stream",
     "text": [
      "Error: no files could be found in specified time interval 1900-01-01 00:00:00 - 1900-01-01 00:00:00\n",
      "Exposure time could not be accessed in ImgList on\n",
      "Exposure time could not be accessed in ImgList off\n"
     ]
    }
   ],
   "source": [
    "ds = pyplis.Dataset(meas_setup)"
   ]
  },
  {
   "cell_type": "markdown",
   "metadata": {},
   "source": [
    "The `Dataset` object should now detect all individual image types and\n",
    "puts them into separate lists, which can be accessed using the IDs of the\n",
    "corresponding `Filter` objects, e.g.:"
   ]
  },
  {
   "cell_type": "code",
   "execution_count": 26,
   "metadata": {},
   "outputs": [
    {
     "name": "stdout",
     "output_type": "stream",
     "text": [
      "\n",
      "pyplis ImgList\n",
      "----------------------------------\n",
      "ID: on\n",
      "Type: on\n",
      "Number of files (imgs): 122\n",
      "\n",
      "Current image prep settings\n",
      ".................................\n",
      "darkcorr: 0\n",
      "blurring: 0\n",
      "median: 0\n",
      "crop: 0\n",
      "8bit: 0\n",
      "pyrlevel: 0\n",
      "is_tau: 0\n",
      "is_aa: 0\n",
      "vigncorr: 0\n",
      "senscorr: 0\n",
      "dilcorr: 0\n",
      "gascalib: 0\n",
      "is_bin: 0\n",
      "is_inv: 0\n",
      "shifted: False\n",
      "others: True\n",
      "\n"
     ]
    }
   ],
   "source": [
    "lst = ds.get_list(\"on\")\n",
    "print(lst)"
   ]
  },
  {
   "cell_type": "code",
   "execution_count": 27,
   "metadata": {},
   "outputs": [
    {
     "data": {
      "text/plain": [
       "<matplotlib.axes._subplots.AxesSubplot at 0x1f0afca7390>"
      ]
     },
     "execution_count": 27,
     "metadata": {},
     "output_type": "execute_result"
    },
    {
     "data": {
      "image/png": "[encoded data removed]",
      "text/plain": [
       "<Figure size 864x504 with 2 Axes>"
      ]
     },
     "metadata": {},
     "output_type": "display_data"
    }
   ],
   "source": [
    "lst.show_current()"
   ]
  },
  {
   "cell_type": "markdown",
   "metadata": {},
   "source": [
    "These lists are of type ``ImgList``. Similarly, dark and offset image lists\n",
    "(`DarkImgList` classes) were created using the information stored in the\n",
    "`DarkOffsetInfo` objects specified in our camera:"
   ]
  },
  {
   "cell_type": "code",
   "execution_count": 28,
   "metadata": {},
   "outputs": [
    {
     "data": {
      "text/plain": [
       "<matplotlib.axes._subplots.AxesSubplot at 0x1f0b00145f8>"
      ]
     },
     "execution_count": 28,
     "metadata": {},
     "output_type": "execute_result"
    },
    {
     "data": {
      "image/png": "[encoded data removed]",
      "text/plain": [
       "<Figure size 864x504 with 2 Axes>"
      ]
     },
     "metadata": {},
     "output_type": "display_data"
    }
   ],
   "source": [
    "dark_list_low_gain = ds.get_list(\"dark0\")\n",
    "dark_list_low_gain.show_current(vmin=0, vmax=255)"
   ]
  },
  {
   "cell_type": "code",
   "execution_count": 29,
   "metadata": {},
   "outputs": [],
   "source": [
    "offset_list_low_gain = ds.get_list(\"offset0\")"
   ]
  },
  {
   "cell_type": "markdown",
   "metadata": {},
   "source": [
    "You can also easily access all lists, that actually contain images and correspond to one of the ``Filter`` objects:"
   ]
  },
  {
   "cell_type": "code",
   "execution_count": 30,
   "metadata": {},
   "outputs": [
    {
     "name": "stdout",
     "output_type": "stream",
     "text": [
      "odict_keys(['on', 'off'])\n"
     ]
    }
   ],
   "source": [
    "all_imglists = ds.img_lists_with_data #this is a dictionary\n",
    "print(all_imglists.keys()) #prints the list / Filter IDs"
   ]
  },
  {
   "cell_type": "markdown",
   "metadata": {},
   "source": [
    "and similar, all `DarkImgList` objects that contain data:"
   ]
  },
  {
   "cell_type": "code",
   "execution_count": 31,
   "metadata": {},
   "outputs": [
    {
     "name": "stdout",
     "output_type": "stream",
     "text": [
      "odict_keys(['offset0', 'offset1', 'dark0', 'dark1'])\n"
     ]
    }
   ],
   "source": [
    "all_darklists = ds.dark_lists_with_data #this is a dictionary\n",
    "print(all_darklists.keys()) #prints the list IDs"
   ]
  },
  {
   "cell_type": "markdown",
   "metadata": {},
   "source": [
    "If everything works out nicely, you can add the camera as new default using:"
   ]
  },
  {
   "cell_type": "code",
   "execution_count": 32,
   "metadata": {},
   "outputs": [
    {
     "name": "stdout",
     "output_type": "stream",
     "text": [
      "KeyError('Cam ID conflict: one of the provided IDs already exists in database...')\n"
     ]
    }
   ],
   "source": [
    "try:\n",
    "    cam.save_as_default()\n",
    "except KeyError as e:\n",
    "    print(repr(e))"
   ]
  },
  {
   "cell_type": "markdown",
   "metadata": {},
   "source": [
    "After saving the camera as new default, you can load it using:"
   ]
  },
  {
   "cell_type": "code",
   "execution_count": 33,
   "metadata": {},
   "outputs": [
    {
     "name": "stdout",
     "output_type": "stream",
     "text": [
      "ecII_test, serno. 9999\n",
      "-------------------------\n",
      "cam_id: ecII_test\n",
      "delim: _\n",
      "time_info_pos: 3\n",
      "time_info_str: %Y%m%d%H%M%S%f\n",
      "filter_id_pos: 4\n",
      "texp_pos: None\n",
      "texp_unit: \n",
      "file_type: fts\n",
      "main_filter_id: on\n",
      "meas_type_pos: 4\n",
      "darkcorr_opt: 0\n",
      "focal_length: 0.025\n",
      "pix_height: 4.65e-06\n",
      "pix_width: 4.65e-06\n",
      "pixnum_x: 1344\n",
      "pixnum_y: 1024\n",
      "reg_shift_off: [0.0, 0.0]\n",
      "io_opts: {}\n",
      "image_import_method: None\n",
      "\n",
      "Dark & offset info\n",
      "------------------------\n",
      "ID: offset0, type: offset, acronym: D0L, meas_type_acro: D0L,read_gain: 0\n",
      "ID: offset1, type: offset, acronym: D0H, meas_type_acro: D0H,read_gain: 1\n",
      "ID: dark0, type: dark, acronym: D1L, meas_type_acro: D1L,read_gain: 0\n",
      "ID: dark1, type: dark, acronym: D1H, meas_type_acro: D1H,read_gain: 1\n",
      "\n",
      "Filters\n",
      "----------------------\n",
      "on, type: on (default): nan nm\n",
      "Default Filter: on\n",
      "\n",
      "Geometry info\n",
      "----------------------\n",
      "lon: None\n",
      "lat: None\n",
      "altitude: None\n",
      "azim: None\n",
      "azim_err: None\n",
      "elev: None\n",
      "elev_err: None\n",
      "alt_offset: 0.000\n",
      "\n"
     ]
    }
   ],
   "source": [
    "import pyplis\n",
    "cam = pyplis.Camera(cam_id=\"ecII_test\")\n",
    "print(cam)"
   ]
  },
  {
   "cell_type": "markdown",
   "metadata": {},
   "source": [
    "Done!"
   ]
  }
 ],
 "metadata": {
  "kernelspec": {
   "display_name": "Python 3",
   "language": "python",
   "name": "python3"
  },
  "language_info": {
   "codemirror_mode": {
    "name": "ipython",
    "version": 3
   },
   "file_extension": ".py",
   "mimetype": "text/x-python",
   "name": "python",
   "nbconvert_exporter": "python",
   "pygments_lexer": "ipython3",
   "version": "3.7.3"
  }
 },
 "nbformat": 4,
 "nbformat_minor": 2
}
